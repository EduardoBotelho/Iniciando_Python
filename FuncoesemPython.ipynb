{
  "nbformat": 4,
  "nbformat_minor": 0,
  "metadata": {
    "colab": {
      "provenance": [],
      "authorship_tag": "ABX9TyNCOga1h0NMPTc5yVTUdRpl",
      "include_colab_link": true
    },
    "kernelspec": {
      "name": "python3",
      "display_name": "Python 3"
    },
    "language_info": {
      "name": "python"
    }
  },
  "cells": [
    {
      "cell_type": "markdown",
      "metadata": {
        "id": "view-in-github",
        "colab_type": "text"
      },
      "source": [
        "<a href=\"https://colab.research.google.com/github/EduardoBotelho/Iniciando_Python/blob/main/FuncoesemPython.ipynb\" target=\"_parent\"><img src=\"https://colab.research.google.com/assets/colab-badge.svg\" alt=\"Open In Colab\"/></a>"
      ]
    },
    {
      "cell_type": "code",
      "execution_count": 1,
      "metadata": {
        "colab": {
          "base_uri": "https://localhost:8080/"
        },
        "id": "fMLVjwrKJTSr",
        "outputId": "727e43fd-78be-41f5-a127-111016205f6f"
      },
      "outputs": [
        {
          "output_type": "stream",
          "name": "stdout",
          "text": [
            "64\n",
            "64\n"
          ]
        }
      ],
      "source": [
        "# Calcular a Potencia\n",
        "print(4*4*4)\n",
        "print(pow(4,3))"
      ]
    },
    {
      "cell_type": "code",
      "source": [
        "# Fatorial de 5\n",
        "fatorial = 5*4*3*2*1\n",
        "print(fatorial)"
      ],
      "metadata": {
        "colab": {
          "base_uri": "https://localhost:8080/"
        },
        "id": "l5jIlhl2KqwS",
        "outputId": "e80836f3-f908-4e49-fb02-53b5a7ac7947"
      },
      "execution_count": 2,
      "outputs": [
        {
          "output_type": "stream",
          "name": "stdout",
          "text": [
            "120\n"
          ]
        }
      ]
    },
    {
      "cell_type": "code",
      "source": [
        "# Declarar uma funcao soma() que recebe dois numeros inteiros\n",
        "\n",
        "def soma(num1,num2):\n",
        "  total = num1 + num2\n",
        "  return total\n",
        "\n",
        "soma1 = soma(5,4)\n",
        "soma2 = soma(15,-5)\n",
        "print(soma1)\n",
        "print(soma2)\n",
        "print(soma(1,3))\n",
        "total = soma(soma(5,6),soma(8,2))\n",
        "soma3 = soma(total, 20)\n",
        "print(soma3)"
      ],
      "metadata": {
        "colab": {
          "base_uri": "https://localhost:8080/"
        },
        "id": "cwwpAC5_LB6s",
        "outputId": "49624c0a-3fbd-48bb-c547-b69296214765"
      },
      "execution_count": 12,
      "outputs": [
        {
          "output_type": "stream",
          "name": "stdout",
          "text": [
            "9\n",
            "10\n",
            "4\n",
            "41\n"
          ]
        }
      ]
    },
    {
      "cell_type": "code",
      "source": [
        "# criar uma funcao que calcula o fatorial de um numero qualquer\n",
        "def fatorial(numero):\n",
        "  total = 1\n",
        "  contador = numero\n",
        "  while(contador >=1):\n",
        "    total = total * contador\n",
        "    contador = contador - 1\n",
        "  return total\n",
        "\n",
        "print(fatorial(5))\n",
        "print(fatorial(10))"
      ],
      "metadata": {
        "colab": {
          "base_uri": "https://localhost:8080/"
        },
        "id": "12DY9CNjM8Cn",
        "outputId": "b0619e92-9b77-484a-aee1-dc2e92f3e201"
      },
      "execution_count": 14,
      "outputs": [
        {
          "output_type": "stream",
          "name": "stdout",
          "text": [
            "120\n",
            "3628800\n"
          ]
        }
      ]
    },
    {
      "cell_type": "code",
      "source": [
        "print(fatorial(8))"
      ],
      "metadata": {
        "colab": {
          "base_uri": "https://localhost:8080/"
        },
        "id": "XHbh-C84OG1M",
        "outputId": "43bc9e16-40ad-46a2-8b13-acfa4f5a5c46"
      },
      "execution_count": 15,
      "outputs": [
        {
          "output_type": "stream",
          "name": "stdout",
          "text": [
            "40320\n"
          ]
        }
      ]
    }
  ]
}