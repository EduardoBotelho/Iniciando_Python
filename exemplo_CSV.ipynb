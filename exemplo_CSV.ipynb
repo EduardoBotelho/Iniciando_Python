{
  "nbformat": 4,
  "nbformat_minor": 0,
  "metadata": {
    "colab": {
      "provenance": [],
      "authorship_tag": "ABX9TyMbQpzRbj5f+bU9sSsskZ6b",
      "include_colab_link": true
    },
    "kernelspec": {
      "name": "python3",
      "display_name": "Python 3"
    },
    "language_info": {
      "name": "python"
    }
  },
  "cells": [
    {
      "cell_type": "markdown",
      "metadata": {
        "id": "view-in-github",
        "colab_type": "text"
      },
      "source": [
        "<a href=\"https://colab.research.google.com/github/EduardoBotelho/Iniciando_Python/blob/main/exemplo_CSV.ipynb\" target=\"_parent\"><img src=\"https://colab.research.google.com/assets/colab-badge.svg\" alt=\"Open In Colab\"/></a>"
      ]
    },
    {
      "cell_type": "code",
      "execution_count": 8,
      "metadata": {
        "colab": {
          "base_uri": "https://localhost:8080/"
        },
        "id": "F1556tQISJkk",
        "outputId": "915ae347-ce95-4da2-9014-40e485042c99"
      },
      "outputs": [
        {
          "output_type": "stream",
          "name": "stdout",
          "text": [
            "[{'codigo': 1, 'nome': 'SmartTV LG', 'preco': 2999.9}, {'codigo': 2, 'nome': 'Nintendo Switch', 'preco': 2500.99}, {'codigo': 3, 'nome': 'Laptop Lenovo i5', 'preco': 3599.99}]\n"
          ]
        }
      ],
      "source": [
        "import csv\n",
        "with open(\"produtos.csv\", newline='\\n') as csvfile:\n",
        "  leitor = csv.reader(csvfile,delimiter=',')\n",
        "  next(leitor)# ignora o cabecalho\n",
        "\n",
        "  produtos = []\n",
        "\n",
        "  for linha in leitor:\n",
        "    produto = {\n",
        "        \"codigo\": int(linha[0]),\n",
        "        \"nome\": (linha[1]),\n",
        "        \"preco\": float(linha[2])\n",
        "    }\n",
        "    produtos.append(produto)\n",
        "print(produtos)"
      ]
    }
  ]
}