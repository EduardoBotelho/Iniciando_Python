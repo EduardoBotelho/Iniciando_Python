{
  "nbformat": 4,
  "nbformat_minor": 0,
  "metadata": {
    "colab": {
      "provenance": [],
      "authorship_tag": "ABX9TyOZQL6lgh0j4UnVs0ysUWBd",
      "include_colab_link": true
    },
    "kernelspec": {
      "name": "python3",
      "display_name": "Python 3"
    },
    "language_info": {
      "name": "python"
    }
  },
  "cells": [
    {
      "cell_type": "markdown",
      "metadata": {
        "id": "view-in-github",
        "colab_type": "text"
      },
      "source": [
        "<a href=\"https://colab.research.google.com/github/EduardoBotelho/Iniciando_Python/blob/main/Sexto_exemplo_Python.ipynb\" target=\"_parent\"><img src=\"https://colab.research.google.com/assets/colab-badge.svg\" alt=\"Open In Colab\"/></a>"
      ]
    },
    {
      "cell_type": "code",
      "execution_count": 6,
      "metadata": {
        "id": "Go4ujuTgjoLp"
      },
      "outputs": [],
      "source": [
        "# Lista de Produtos\n",
        "produtos = []"
      ]
    },
    {
      "cell_type": "code",
      "source": [
        "# O Usuario vai digitar 3 produtos, informando nome, qtde e preco.\n",
        "num = 1\n",
        "\n",
        "while (num <=3):\n",
        "  nome = input(\"Informe o nome do {num} produto\")\n",
        "  qtde = int(input(\"Informe o quantidade do {num} produto\"))\n",
        "  preco = float(input(\"Informe o preco do {num} produto\"))\n",
        "  num = num + 1\n",
        "  produto = {\n",
        "      \"nome\": nome,\n",
        "      \"qtde\" :qtde,\n",
        "      \"preco\":preco\n",
        "  }\n",
        "  produtos.append(produto)\n",
        "  print(produtos)"
      ],
      "metadata": {
        "colab": {
          "base_uri": "https://localhost:8080/"
        },
        "id": "RJM73bQwlMdt",
        "outputId": "b9b6f46d-e1b3-446f-cc96-54084631e8c5"
      },
      "execution_count": 7,
      "outputs": [
        {
          "output_type": "stream",
          "name": "stdout",
          "text": [
            "Informe o nome do {num} produtoSmart TV 4K\n",
            "Informe o quantidade do {num} produto50\n",
            "Informe o preco do {num} produto20000\n",
            "[{'nome': 'Smart TV 4K', 'qtde': 50, 'preco': 20000.0}]\n",
            "Informe o nome do {num} produtoCelular\n",
            "Informe o quantidade do {num} produto600\n",
            "Informe o preco do {num} produto50000\n",
            "[{'nome': 'Smart TV 4K', 'qtde': 50, 'preco': 20000.0}, {'nome': 'Celular', 'qtde': 600, 'preco': 50000.0}]\n",
            "Informe o nome do {num} produtoTapete\n",
            "Informe o quantidade do {num} produto500\n",
            "Informe o preco do {num} produto4000\n",
            "[{'nome': 'Smart TV 4K', 'qtde': 50, 'preco': 20000.0}, {'nome': 'Celular', 'qtde': 600, 'preco': 50000.0}, {'nome': 'Tapete', 'qtde': 500, 'preco': 4000.0}]\n"
          ]
        }
      ]
    },
    {
      "cell_type": "code",
      "source": [
        "# Quero saber o preco do terceito elemento\n",
        "print(produtos[2]['preco'])\n",
        "\n",
        "# Quero saber o nome do primeiro produto\n",
        "print(produtos[0]['nome'])"
      ],
      "metadata": {
        "colab": {
          "base_uri": "https://localhost:8080/"
        },
        "id": "8aP7tooqniuN",
        "outputId": "3df32cfb-4b32-4f70-e2f3-9e9988e9aaae"
      },
      "execution_count": 8,
      "outputs": [
        {
          "output_type": "stream",
          "name": "stdout",
          "text": [
            "4000.0\n",
            "Smart TV 4K\n"
          ]
        }
      ]
    },
    {
      "cell_type": "code",
      "source": [
        "# Somar todos os produtos em estoque(quantos temos em estoque)\n",
        "# Qual o preco dos produtos somados\n",
        "total_estoque = 0\n",
        "total_preco = 0\n",
        "\n",
        "for produto in produtos:\n",
        "  total_estoque = total_estoque + produto['qtde']\n",
        "  total_preco = total_preco + produto['preco']\n",
        "\n",
        "print(f\"Total em estoque : {total_estoque}\")\n",
        "print(f\"Preco total: {total_preco}\")"
      ],
      "metadata": {
        "colab": {
          "base_uri": "https://localhost:8080/"
        },
        "id": "ReJyVbJHoOq2",
        "outputId": "c33a4896-1668-412e-e13c-41f3b0036ca7"
      },
      "execution_count": 9,
      "outputs": [
        {
          "output_type": "stream",
          "name": "stdout",
          "text": [
            "Total em estoque : 1150\n",
            "Preco total: 74000.0\n"
          ]
        }
      ]
    },
    {
      "cell_type": "code",
      "source": [
        "# Comprar produtos\n",
        "compras = []\n",
        "\n",
        "continuar_comprando = True\n",
        "\n",
        "while(continuar_comprando == True):\n",
        "  print(\"Qual produto voce quer comprar? Digite:\")\n",
        "  num = 0\n",
        "  for produto in produtos:\n",
        "    print(f\"{num} : {produto['nome']}\")\n",
        "    num = num + 1\n",
        "\n",
        "  codigo = int(input(\"Digite a opcao desejada :\"))\n",
        "  print(f\"Produto escolhido : {produtos[codigo]['nome']}, preco: {produtos[codigo]['preco']}\")\n",
        "\n",
        "  qtde_desejada = int(input(f\"Quantos {produtos[codigo]['nome']} voce quer comprar?\"))\n",
        "\n",
        "  compra = {\n",
        "    \"codigo\": codigo,\n",
        "    \"qtde_desejada\":qtde_desejada\n",
        "  }\n",
        "  compras.append(compra)\n",
        "\n",
        "  # Atualizar o estoque da mercadoria comprada\n",
        "  produtos[codigo]['qtde'] = produtos[codigo]['qtde'] - qtde_desejada\n",
        "\n",
        "  print(produtos)\n",
        "\n",
        "  continuar_comprando = False"
      ],
      "metadata": {
        "colab": {
          "base_uri": "https://localhost:8080/"
        },
        "id": "56g0WgU7NkdM",
        "outputId": "18fd60ad-fc3d-4c57-cfe6-7c2891e58224"
      },
      "execution_count": 22,
      "outputs": [
        {
          "output_type": "stream",
          "name": "stdout",
          "text": [
            "Qual produto voce quer comprar? Digite:\n",
            "0 : Smart TV 4K\n",
            "1 : Celular\n",
            "2 : Tapete\n",
            "Digite a opcao desejada :0\n",
            "Produto escolhido : Smart TV 4K, preco: 20000.0\n",
            "Quantos Smart TV 4K voce quer comprar?3\n",
            "[{'nome': 'Smart TV 4K', 'qtde': 44, 'preco': 20000.0}, {'nome': 'Celular', 'qtde': 600, 'preco': 50000.0}, {'nome': 'Tapete', 'qtde': 500, 'preco': 4000.0}]\n"
          ]
        }
      ]
    },
    {
      "cell_type": "code",
      "source": [
        "# Total da Compra\n",
        "codigo = compras[0]['codigo']\n",
        "total = compras[0]['qtde_desejada'] * produtos[codigo]['preco']\n",
        "print(total)"
      ],
      "metadata": {
        "colab": {
          "base_uri": "https://localhost:8080/"
        },
        "id": "-_BZtJleXoaL",
        "outputId": "3c1c078e-64b8-4a59-d0b6-8edb194ad66b"
      },
      "execution_count": 23,
      "outputs": [
        {
          "output_type": "stream",
          "name": "stdout",
          "text": [
            "60000.0\n"
          ]
        }
      ]
    }
  ]
}