{
  "nbformat": 4,
  "nbformat_minor": 0,
  "metadata": {
    "colab": {
      "provenance": [],
      "authorship_tag": "ABX9TyOXXOcFdVZLydT0mX74oi95",
      "include_colab_link": true
    },
    "kernelspec": {
      "name": "python3",
      "display_name": "Python 3"
    },
    "language_info": {
      "name": "python"
    }
  },
  "cells": [
    {
      "cell_type": "markdown",
      "metadata": {
        "id": "view-in-github",
        "colab_type": "text"
      },
      "source": [
        "<a href=\"https://colab.research.google.com/github/EduardoBotelho/Iniciando_Python/blob/main/Quinto_exemplo_dicionario.ipynb\" target=\"_parent\"><img src=\"https://colab.research.google.com/assets/colab-badge.svg\" alt=\"Open In Colab\"/></a>"
      ]
    },
    {
      "cell_type": "code",
      "execution_count": 4,
      "metadata": {
        "colab": {
          "base_uri": "https://localhost:8080/"
        },
        "id": "gxfLJZZShX-Q",
        "outputId": "b910ea0f-98ff-42d3-dd69-190a28516b7b"
      },
      "outputs": [
        {
          "output_type": "stream",
          "name": "stdout",
          "text": [
            "{'nome': 'Smart Tv 4K', 'qtde': 10, 'preco': 3999.0}\n"
          ]
        }
      ],
      "source": [
        "produto = {\n",
        "    \"nome\": \"Smart Tv 4K\",\n",
        "    \"qtde\":10,\n",
        "    \"preco\":3999.00\n",
        "}\n",
        "\n",
        "print(produto)"
      ]
    },
    {
      "cell_type": "code",
      "source": [
        "# quantidade de produto\n",
        "print(produto['qtde'])"
      ],
      "metadata": {
        "colab": {
          "base_uri": "https://localhost:8080/"
        },
        "id": "wIIfT5j8iAGn",
        "outputId": "70b80636-8d30-47ae-86fc-2507b5fef473"
      },
      "execution_count": 5,
      "outputs": [
        {
          "output_type": "stream",
          "name": "stdout",
          "text": [
            "10\n"
          ]
        }
      ]
    }
  ]
}