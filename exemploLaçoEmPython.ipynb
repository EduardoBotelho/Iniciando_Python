{
  "nbformat": 4,
  "nbformat_minor": 0,
  "metadata": {
    "colab": {
      "provenance": [],
      "authorship_tag": "ABX9TyPRn4PkcqkBpTT9LveZFlX+",
      "include_colab_link": true
    },
    "kernelspec": {
      "name": "python3",
      "display_name": "Python 3"
    },
    "language_info": {
      "name": "python"
    }
  },
  "cells": [
    {
      "cell_type": "markdown",
      "metadata": {
        "id": "view-in-github",
        "colab_type": "text"
      },
      "source": [
        "<a href=\"https://colab.research.google.com/github/EduardoBotelho/Iniciando_Python/blob/main/exemploLa%C3%A7oEmPython.ipynb\" target=\"_parent\"><img src=\"https://colab.research.google.com/assets/colab-badge.svg\" alt=\"Open In Colab\"/></a>"
      ]
    },
    {
      "cell_type": "code",
      "execution_count": 3,
      "metadata": {
        "colab": {
          "base_uri": "https://localhost:8080/"
        },
        "id": "eEjrxDzQeBkK",
        "outputId": "0f65c94b-e635-4118-c5a5-0df7200ed19d"
      },
      "outputs": [
        {
          "output_type": "stream",
          "name": "stdout",
          "text": [
            "Digite um numero de 1 a 10 :1500\n",
            "Numero invalido\n",
            "Digite um numero de 1 a 10:2\n",
            "O numero informado foi : 2\n"
          ]
        }
      ],
      "source": [
        "numero = int(input(\"Digite um numero de 1 a 10 :\"))\n",
        "while ((numero < 1) or (numero > 10)):\n",
        "  print(\"Numero invalido\")\n",
        "  numero = int(input(\"Digite um numero de 1 a 10:\"))\n",
        "print(f\"O numero informado foi : {numero}\")\n",
        "\n"
      ]
    },
    {
      "cell_type": "code",
      "source": [
        "numeros = [10,20,30,40,50,60]\n",
        "for numero in numeros:\n",
        "  print(numero)\n",
        "reverso = numeros.reverse()\n",
        "print(reverso)"
      ],
      "metadata": {
        "colab": {
          "base_uri": "https://localhost:8080/"
        },
        "id": "7wUXlnVehSaq",
        "outputId": "00403584-6030-4a56-f94a-2a1b55bda611"
      },
      "execution_count": 5,
      "outputs": [
        {
          "output_type": "stream",
          "name": "stdout",
          "text": [
            "10\n",
            "20\n",
            "30\n",
            "40\n",
            "50\n",
            "60\n",
            "None\n"
          ]
        }
      ]
    }
  ]
}